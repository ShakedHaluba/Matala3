{
  "cells": [
    {
      "cell_type": "markdown",
      "metadata": {
        "id": "l3BTDoyKSHnX"
      },
      "source": [
        "#### Shaked Haluba\n",
        "#### 209328442"
      ]
    },
    {
      "cell_type": "code",
      "execution_count": null,
      "metadata": {
        "id": "b8MP2fSXSHnc"
      },
      "outputs": [],
      "source": [
        "import requests\n",
        "import json\n",
        "import pandas as pd\n",
        "\n",
        "# Define the API endpoints and parameters\n",
        "distance_url = 'https://maps.googleapis.com/maps/api/distancematrix/json'\n",
        "distance_params = {\n",
        "    'units': 'metric',\n",
        "    'origins': 'Tel Aviv',\n",
        "    'key': ''\n",
        "}\n",
        "\n",
        "geocode_url = 'https://maps.googleapis.com/maps/api/geocode/json'\n",
        "geocode_params = {\n",
        "    'key': ''\n",
        "}\n",
        "\n",
        "# Read the list of targets from a file\n",
        "with open('dests.txt') as f:\n",
        "    targets = f.read().splitlines()\n",
        "\n",
        "# Define a list to store the results\n",
        "results = []\n",
        "\n",
        "# Loop over the targets and retrieve the distance, duration, and geocode for each\n",
        "for target in targets:\n",
        "    # Retrieve the distance and duration\n",
        "    distance_params['destinations'] = target\n",
        "    try:\n",
        "        response = requests.get(distance_url, params=distance_params)\n",
        "        if not response.status_code == 200:\n",
        "            print(\"HTTP error\",response.status_code)\n",
        "        else:\n",
        "            try:\n",
        "                response_data = response.json()\n",
        "                if not response_data[\"status\"] == \"OK\":\n",
        "                    print(\"error in google API\")\n",
        "                else: \n",
        "                    distance = response_data['rows'][0]['elements'][0]['distance']['value'] / 1000 \n",
        "                    duration = response_data['rows'][0]['elements'][0]['duration']['text']\n",
        "            except:\n",
        "                print(\"Response not in valid JSON format\")\n",
        "    except:\n",
        "        print(\"Something went wrong with requests.get\")\n",
        "    \n",
        "    \n",
        "    # Retrieve the geocode\n",
        "    geocode_params['address'] = target\n",
        "    try:\n",
        "        response = requests.get(geocode_url, params=geocode_params)\n",
        "        if not response.status_code == 200:\n",
        "            print(\"HTTP error\",response.status_code)\n",
        "        else:\n",
        "            try:\n",
        "                data = response.json()\n",
        "                if not data[\"status\"] == \"OK\":\n",
        "                    print(\"error in google API\")\n",
        "                else: \n",
        "                    location = data['results'][0]['geometry']['location']\n",
        "                    latitude = location['lat']\n",
        "                    longitude = location['lng']\n",
        "            except:\n",
        "                print(\"Response not in valid JSON format\")\n",
        "    except:\n",
        "        print(\"Something went wrong with requests.get\")\n",
        "    \n",
        "    \n",
        "    # Add the results to the list\n",
        "    results.append((target, distance, duration, longitude, latitude))\n",
        "\n",
        "# Create a pandas DataFrame from the results\n",
        "df = pd.DataFrame(results, columns=['Target', 'Distance_km', 'Duration', 'Longitude', 'Latitude'])"
      ]
    },
    {
      "cell_type": "code",
      "execution_count": null,
      "metadata": {
        "id": "fFYx0ko7SHne",
        "outputId": "12355080-db7a-498f-bffc-d2b24c6373d7"
      },
      "outputs": [
        {
          "name": "stdout",
          "output_type": "stream",
          "text": [
            "      Target  Distance_km          Duration  Longitude   Latitude\n",
            "0   Istanbul     1815.227   21 hours 3 mins  28.978359  41.008238\n",
            "1  Amsterdam     4532.541    2 days 0 hours   4.904139  52.367573\n",
            "2   Valletta     3792.883    2 days 3 hours  14.514100  35.899237\n",
            "3      Basel     4092.805    1 day 20 hours   7.588576  47.559599\n",
            "4       Doha     2164.477  22 hours 39 mins  51.531040  25.285447\n"
          ]
        }
      ],
      "source": [
        "# Print the DataFrame\n",
        "print(df)"
      ]
    },
    {
      "cell_type": "code",
      "execution_count": null,
      "metadata": {
        "id": "OyYigzqoSHnf",
        "outputId": "6596232c-ffbc-478e-91a3-d30e1b6302d8"
      },
      "outputs": [
        {
          "name": "stdout",
          "output_type": "stream",
          "text": [
            "      Target  Distance_km        Duration  Longitude   Latitude\n",
            "1  Amsterdam     4532.541  2 days 0 hours   4.904139  52.367573\n",
            "3      Basel     4092.805  1 day 20 hours   7.588576  47.559599\n",
            "2   Valletta     3792.883  2 days 3 hours  14.514100  35.899237\n"
          ]
        }
      ],
      "source": [
        "# Sort the DataFrame by the Distance_km column in descending order\n",
        "df_sorted = df.sort_values('Distance_km', ascending=False)\n",
        "print(df_sorted.iloc[:3])"
      ]
    }
  ],
  "metadata": {
    "kernelspec": {
      "display_name": "Python 3",
      "language": "python",
      "name": "python3"
    },
    "language_info": {
      "codemirror_mode": {
        "name": "ipython",
        "version": 3
      },
      "file_extension": ".py",
      "mimetype": "text/x-python",
      "name": "python",
      "nbconvert_exporter": "python",
      "pygments_lexer": "ipython3",
      "version": "3.8.5"
    },
    "colab": {
      "provenance": []
    }
  },
  "nbformat": 4,
  "nbformat_minor": 0
}